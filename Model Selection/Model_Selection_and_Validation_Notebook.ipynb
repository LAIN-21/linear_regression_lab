{
  "cells": [
    {
      "cell_type": "markdown",
      "metadata": {
        "id": "LhEMC6GeZxqL"
      },
      "source": [
        "# Model Selection and Validation Notebook\n",
        "\n",
        "In this notebook you will see the code of the Model Selection and Model Validation sessions.\n",
        "\n",
        "We will use the swiss dataset for explaining this variable selection process. We can import it from a URL as follows:"
      ]
    },
    {
      "cell_type": "code",
      "execution_count": 1,
      "metadata": {
        "id": "IJbJIV1RZtKH"
      },
      "outputs": [],
      "source": [
        "import pandas as pd\n",
        "import numpy as np\n",
        "import statsmodels.api as sm\n",
        "import statsmodels.formula.api as smf\n",
        "\n",
        "data_url = \"/Users/luisinfanten/Desktop/IE/Classes/First-Year/Second-Semester/Simulating and Modelling/Models/Notebooks/Model Selection/swiss.csv\"\n",
        "swiss = pd.read_csv(data_url, index_col=0)"
      ]
    },
    {
      "cell_type": "code",
      "execution_count": 2,
      "metadata": {
        "colab": {
          "base_uri": "https://localhost:8080/",
          "height": 238
        },
        "id": "oPhchn0DZbBI",
        "outputId": "0b10ef9b-c005-406d-9eed-8e8918ce1763"
      },
      "outputs": [
        {
          "data": {
            "text/html": [
              "<div>\n",
              "<style scoped>\n",
              "    .dataframe tbody tr th:only-of-type {\n",
              "        vertical-align: middle;\n",
              "    }\n",
              "\n",
              "    .dataframe tbody tr th {\n",
              "        vertical-align: top;\n",
              "    }\n",
              "\n",
              "    .dataframe thead th {\n",
              "        text-align: right;\n",
              "    }\n",
              "</style>\n",
              "<table border=\"1\" class=\"dataframe\">\n",
              "  <thead>\n",
              "    <tr style=\"text-align: right;\">\n",
              "      <th></th>\n",
              "      <th>Fertility</th>\n",
              "      <th>Agriculture</th>\n",
              "      <th>Examination</th>\n",
              "      <th>Education</th>\n",
              "      <th>Catholic</th>\n",
              "      <th>Infant.Mortality</th>\n",
              "    </tr>\n",
              "    <tr>\n",
              "      <th>rownames</th>\n",
              "      <th></th>\n",
              "      <th></th>\n",
              "      <th></th>\n",
              "      <th></th>\n",
              "      <th></th>\n",
              "      <th></th>\n",
              "    </tr>\n",
              "  </thead>\n",
              "  <tbody>\n",
              "    <tr>\n",
              "      <th>Courtelary</th>\n",
              "      <td>80.2</td>\n",
              "      <td>17.0</td>\n",
              "      <td>15</td>\n",
              "      <td>12</td>\n",
              "      <td>9.96</td>\n",
              "      <td>22.2</td>\n",
              "    </tr>\n",
              "    <tr>\n",
              "      <th>Delemont</th>\n",
              "      <td>83.1</td>\n",
              "      <td>45.1</td>\n",
              "      <td>6</td>\n",
              "      <td>9</td>\n",
              "      <td>84.84</td>\n",
              "      <td>22.2</td>\n",
              "    </tr>\n",
              "    <tr>\n",
              "      <th>Franches-Mnt</th>\n",
              "      <td>92.5</td>\n",
              "      <td>39.7</td>\n",
              "      <td>5</td>\n",
              "      <td>5</td>\n",
              "      <td>93.40</td>\n",
              "      <td>20.2</td>\n",
              "    </tr>\n",
              "    <tr>\n",
              "      <th>Moutier</th>\n",
              "      <td>85.8</td>\n",
              "      <td>36.5</td>\n",
              "      <td>12</td>\n",
              "      <td>7</td>\n",
              "      <td>33.77</td>\n",
              "      <td>20.3</td>\n",
              "    </tr>\n",
              "    <tr>\n",
              "      <th>Neuveville</th>\n",
              "      <td>76.9</td>\n",
              "      <td>43.5</td>\n",
              "      <td>17</td>\n",
              "      <td>15</td>\n",
              "      <td>5.16</td>\n",
              "      <td>20.6</td>\n",
              "    </tr>\n",
              "  </tbody>\n",
              "</table>\n",
              "</div>"
            ],
            "text/plain": [
              "              Fertility  Agriculture  Examination  Education  Catholic  \\\n",
              "rownames                                                                 \n",
              "Courtelary         80.2         17.0           15         12      9.96   \n",
              "Delemont           83.1         45.1            6          9     84.84   \n",
              "Franches-Mnt       92.5         39.7            5          5     93.40   \n",
              "Moutier            85.8         36.5           12          7     33.77   \n",
              "Neuveville         76.9         43.5           17         15      5.16   \n",
              "\n",
              "              Infant.Mortality  \n",
              "rownames                        \n",
              "Courtelary                22.2  \n",
              "Delemont                  22.2  \n",
              "Franches-Mnt              20.2  \n",
              "Moutier                   20.3  \n",
              "Neuveville                20.6  "
            ]
          },
          "execution_count": 2,
          "metadata": {},
          "output_type": "execute_result"
        }
      ],
      "source": [
        "swiss.head()"
      ]
    },
    {
      "cell_type": "markdown",
      "metadata": {
        "id": "BnuXIQV2Tq4N"
      },
      "source": [
        "In previous sessions we have seen the Backwards stepwise selection manually. We can start with the full model and check which variable to eliminate using the p-values of the beta parameters. Let's start creating the full model:"
      ]
    },
    {
      "cell_type": "code",
      "execution_count": 3,
      "metadata": {
        "id": "OPpC902MEPIc"
      },
      "outputs": [],
      "source": [
        "swiss[\"Infant_Mortality\"] = swiss[\"Infant.Mortality\"]"
      ]
    },
    {
      "cell_type": "code",
      "execution_count": 4,
      "metadata": {
        "colab": {
          "base_uri": "https://localhost:8080/"
        },
        "id": "GlExv28BaTUQ",
        "outputId": "d74eca32-a8a5-43f6-cdc7-31d6db00acf0"
      },
      "outputs": [
        {
          "name": "stdout",
          "output_type": "stream",
          "text": [
            "                            OLS Regression Results                            \n",
            "==============================================================================\n",
            "Dep. Variable:              Fertility   R-squared:                       0.707\n",
            "Model:                            OLS   Adj. R-squared:                  0.671\n",
            "Method:                 Least Squares   F-statistic:                     19.76\n",
            "Date:                Sun, 28 Apr 2024   Prob (F-statistic):           5.59e-10\n",
            "Time:                        23:23:10   Log-Likelihood:                -156.04\n",
            "No. Observations:                  47   AIC:                             324.1\n",
            "Df Residuals:                      41   BIC:                             335.2\n",
            "Df Model:                           5                                         \n",
            "Covariance Type:            nonrobust                                         \n",
            "====================================================================================\n",
            "                       coef    std err          t      P>|t|      [0.025      0.975]\n",
            "------------------------------------------------------------------------------------\n",
            "Intercept           66.9152     10.706      6.250      0.000      45.294      88.536\n",
            "Agriculture         -0.1721      0.070     -2.448      0.019      -0.314      -0.030\n",
            "Examination         -0.2580      0.254     -1.016      0.315      -0.771       0.255\n",
            "Education           -0.8709      0.183     -4.758      0.000      -1.241      -0.501\n",
            "Catholic             0.1041      0.035      2.953      0.005       0.033       0.175\n",
            "Infant_Mortality     1.0770      0.382      2.822      0.007       0.306       1.848\n",
            "==============================================================================\n",
            "Omnibus:                        0.058   Durbin-Watson:                   1.454\n",
            "Prob(Omnibus):                  0.971   Jarque-Bera (JB):                0.155\n",
            "Skew:                          -0.077   Prob(JB):                        0.925\n",
            "Kurtosis:                       2.764   Cond. No.                         807.\n",
            "==============================================================================\n",
            "\n",
            "Notes:\n",
            "[1] Standard Errors assume that the covariance matrix of the errors is correctly specified.\n"
          ]
        }
      ],
      "source": [
        "model_1 = smf.ols(formula = \"Fertility ~ Agriculture + Examination + Education + Catholic + Infant_Mortality\",\n",
        "                  data = swiss).fit()\n",
        "print(model_1.summary())"
      ]
    },
    {
      "cell_type": "markdown",
      "metadata": {
        "id": "xAPv-hYLT4ib"
      },
      "source": [
        "We see that the variable with the greater p-value is \"Examination\", so we will create a `model_2` eliminating that variable."
      ]
    },
    {
      "cell_type": "code",
      "execution_count": 5,
      "metadata": {
        "colab": {
          "base_uri": "https://localhost:8080/"
        },
        "id": "KJ6D8cX_dTeY",
        "outputId": "f6a4a2be-5df2-4efa-c1bb-d78662b26a13"
      },
      "outputs": [
        {
          "name": "stdout",
          "output_type": "stream",
          "text": [
            "                            OLS Regression Results                            \n",
            "==============================================================================\n",
            "Dep. Variable:              Fertility   R-squared:                       0.699\n",
            "Model:                            OLS   Adj. R-squared:                  0.671\n",
            "Method:                 Least Squares   F-statistic:                     24.42\n",
            "Date:                Sun, 28 Apr 2024   Prob (F-statistic):           1.72e-10\n",
            "Time:                        23:23:10   Log-Likelihood:                -156.62\n",
            "No. Observations:                  47   AIC:                             323.2\n",
            "Df Residuals:                      42   BIC:                             332.5\n",
            "Df Model:                           4                                         \n",
            "Covariance Type:            nonrobust                                         \n",
            "====================================================================================\n",
            "                       coef    std err          t      P>|t|      [0.025      0.975]\n",
            "------------------------------------------------------------------------------------\n",
            "Intercept           62.1013      9.605      6.466      0.000      42.718      81.485\n",
            "Agriculture         -0.1546      0.068     -2.267      0.029      -0.292      -0.017\n",
            "Education           -0.9803      0.148     -6.617      0.000      -1.279      -0.681\n",
            "Catholic             0.1247      0.029      4.315      0.000       0.066       0.183\n",
            "Infant_Mortality     1.0784      0.382      2.824      0.007       0.308       1.849\n",
            "==============================================================================\n",
            "Omnibus:                        0.046   Durbin-Watson:                   1.465\n",
            "Prob(Omnibus):                  0.977   Jarque-Bera (JB):                0.234\n",
            "Skew:                           0.027   Prob(JB):                        0.889\n",
            "Kurtosis:                       2.658   Cond. No.                         716.\n",
            "==============================================================================\n",
            "\n",
            "Notes:\n",
            "[1] Standard Errors assume that the covariance matrix of the errors is correctly specified.\n"
          ]
        }
      ],
      "source": [
        "model_2 = smf.ols(formula = \"Fertility ~ Agriculture + Education + Catholic + Infant_Mortality\",\n",
        "                  data = swiss).fit()\n",
        "print(model_2.summary())"
      ]
    },
    {
      "cell_type": "markdown",
      "metadata": {
        "id": "ZrnjjF7kUESF"
      },
      "source": [
        "This could be a good model for us just using the variable selection strategy that we have studied so far. In this notebook we will see several strategies for variable selection, so we can compare them and take better informed decisions.\n",
        "\n",
        "## ANOVA method\n",
        "\n",
        "We will compare different models using ANOVA depending on the difference on their F statistic result."
      ]
    },
    {
      "cell_type": "code",
      "execution_count": 6,
      "metadata": {
        "colab": {
          "base_uri": "https://localhost:8080/"
        },
        "id": "7XHsyKe5fM7G",
        "outputId": "2ae1560f-4387-4b7f-8acf-0f6a8926f9a7"
      },
      "outputs": [
        {
          "name": "stdout",
          "output_type": "stream",
          "text": [
            "                            OLS Regression Results                            \n",
            "==============================================================================\n",
            "Dep. Variable:              Fertility   R-squared:                       0.000\n",
            "Model:                            OLS   Adj. R-squared:                  0.000\n",
            "Method:                 Least Squares   F-statistic:                       nan\n",
            "Date:                Sun, 28 Apr 2024   Prob (F-statistic):                nan\n",
            "Time:                        23:23:10   Log-Likelihood:                -184.86\n",
            "No. Observations:                  47   AIC:                             371.7\n",
            "Df Residuals:                      46   BIC:                             373.6\n",
            "Df Model:                           0                                         \n",
            "Covariance Type:            nonrobust                                         \n",
            "==============================================================================\n",
            "                 coef    std err          t      P>|t|      [0.025      0.975]\n",
            "------------------------------------------------------------------------------\n",
            "Intercept     70.1426      1.822     38.495      0.000      66.475      73.810\n",
            "==============================================================================\n",
            "Omnibus:                        3.039   Durbin-Watson:                   0.709\n",
            "Prob(Omnibus):                  0.219   Jarque-Bera (JB):                2.053\n",
            "Skew:                          -0.471   Prob(JB):                        0.358\n",
            "Kurtosis:                       3.403   Cond. No.                         1.00\n",
            "==============================================================================\n",
            "\n",
            "Notes:\n",
            "[1] Standard Errors assume that the covariance matrix of the errors is correctly specified.\n"
          ]
        }
      ],
      "source": [
        "model_0 = smf.ols(formula = \"Fertility ~ 1\", data = swiss).fit()\n",
        "print(model_0.summary())"
      ]
    },
    {
      "cell_type": "code",
      "execution_count": 7,
      "metadata": {
        "colab": {
          "base_uri": "https://localhost:8080/",
          "height": 112
        },
        "id": "CHofF88GeScY",
        "outputId": "1a005f5d-adb1-479e-a5fc-f4f63f201ae4"
      },
      "outputs": [
        {
          "data": {
            "text/html": [
              "<div>\n",
              "<style scoped>\n",
              "    .dataframe tbody tr th:only-of-type {\n",
              "        vertical-align: middle;\n",
              "    }\n",
              "\n",
              "    .dataframe tbody tr th {\n",
              "        vertical-align: top;\n",
              "    }\n",
              "\n",
              "    .dataframe thead th {\n",
              "        text-align: right;\n",
              "    }\n",
              "</style>\n",
              "<table border=\"1\" class=\"dataframe\">\n",
              "  <thead>\n",
              "    <tr style=\"text-align: right;\">\n",
              "      <th></th>\n",
              "      <th>df_resid</th>\n",
              "      <th>ssr</th>\n",
              "      <th>df_diff</th>\n",
              "      <th>ss_diff</th>\n",
              "      <th>F</th>\n",
              "      <th>Pr(&gt;F)</th>\n",
              "    </tr>\n",
              "  </thead>\n",
              "  <tbody>\n",
              "    <tr>\n",
              "      <th>0</th>\n",
              "      <td>46.0</td>\n",
              "      <td>7177.954894</td>\n",
              "      <td>0.0</td>\n",
              "      <td>NaN</td>\n",
              "      <td>NaN</td>\n",
              "      <td>NaN</td>\n",
              "    </tr>\n",
              "    <tr>\n",
              "      <th>1</th>\n",
              "      <td>41.0</td>\n",
              "      <td>2105.042930</td>\n",
              "      <td>5.0</td>\n",
              "      <td>5072.911963</td>\n",
              "      <td>19.761059</td>\n",
              "      <td>5.593799e-10</td>\n",
              "    </tr>\n",
              "  </tbody>\n",
              "</table>\n",
              "</div>"
            ],
            "text/plain": [
              "   df_resid          ssr  df_diff      ss_diff          F        Pr(>F)\n",
              "0      46.0  7177.954894      0.0          NaN        NaN           NaN\n",
              "1      41.0  2105.042930      5.0  5072.911963  19.761059  5.593799e-10"
            ]
          },
          "execution_count": 7,
          "metadata": {},
          "output_type": "execute_result"
        }
      ],
      "source": [
        "from statsmodels.stats.anova import anova_lm\n",
        "anova_lm(model_0, model_1)"
      ]
    },
    {
      "cell_type": "code",
      "execution_count": 8,
      "metadata": {
        "colab": {
          "base_uri": "https://localhost:8080/",
          "height": 112
        },
        "id": "AGQXorKvhDev",
        "outputId": "2fb340c2-932e-41cb-bad4-f4aa31ad2c17"
      },
      "outputs": [
        {
          "data": {
            "text/html": [
              "<div>\n",
              "<style scoped>\n",
              "    .dataframe tbody tr th:only-of-type {\n",
              "        vertical-align: middle;\n",
              "    }\n",
              "\n",
              "    .dataframe tbody tr th {\n",
              "        vertical-align: top;\n",
              "    }\n",
              "\n",
              "    .dataframe thead th {\n",
              "        text-align: right;\n",
              "    }\n",
              "</style>\n",
              "<table border=\"1\" class=\"dataframe\">\n",
              "  <thead>\n",
              "    <tr style=\"text-align: right;\">\n",
              "      <th></th>\n",
              "      <th>df_resid</th>\n",
              "      <th>ssr</th>\n",
              "      <th>df_diff</th>\n",
              "      <th>ss_diff</th>\n",
              "      <th>F</th>\n",
              "      <th>Pr(&gt;F)</th>\n",
              "    </tr>\n",
              "  </thead>\n",
              "  <tbody>\n",
              "    <tr>\n",
              "      <th>0</th>\n",
              "      <td>42.0</td>\n",
              "      <td>2158.069487</td>\n",
              "      <td>0.0</td>\n",
              "      <td>NaN</td>\n",
              "      <td>NaN</td>\n",
              "      <td>NaN</td>\n",
              "    </tr>\n",
              "    <tr>\n",
              "      <th>1</th>\n",
              "      <td>41.0</td>\n",
              "      <td>2105.042930</td>\n",
              "      <td>1.0</td>\n",
              "      <td>53.026557</td>\n",
              "      <td>1.0328</td>\n",
              "      <td>0.315462</td>\n",
              "    </tr>\n",
              "  </tbody>\n",
              "</table>\n",
              "</div>"
            ],
            "text/plain": [
              "   df_resid          ssr  df_diff    ss_diff       F    Pr(>F)\n",
              "0      42.0  2158.069487      0.0        NaN     NaN       NaN\n",
              "1      41.0  2105.042930      1.0  53.026557  1.0328  0.315462"
            ]
          },
          "execution_count": 8,
          "metadata": {},
          "output_type": "execute_result"
        }
      ],
      "source": [
        "anova_lm(model_2, model_1)"
      ]
    },
    {
      "cell_type": "markdown",
      "metadata": {
        "id": "g8XRZKuSUgm7"
      },
      "source": [
        "## Best Subset Regression\n",
        "\n",
        "There is not a specific function in Python for obtaining the results of a best subset regression, so we have to create a program for performing those operations (this could be a good programming exercise if you want to try by yourselves). Below, you have my solution for this best subset regression function:"
      ]
    },
    {
      "cell_type": "code",
      "execution_count": 9,
      "metadata": {
        "id": "MXopWSxh5yy_"
      },
      "outputs": [],
      "source": [
        "import itertools\n",
        "\n",
        "# Function to fit a model and return the adjusted R-squared\n",
        "def fit_model_and_calc_aic(y, X):\n",
        "    X = sm.add_constant(X)\n",
        "    model = sm.OLS(y, X).fit()\n",
        "    return {\"aic\" : model.aic, \"bic\" : model.bic, \"r2\" : model.rsquared_adj}\n",
        "\n",
        "def best_subset_reg(df, y, predictors, metric = \"aic\"):\n",
        "  # Initialize the best subset and its performance\n",
        "  best_subset = []\n",
        "  best_subset_metric = -np.inf\n",
        "  best_subset_metric_aic = np.inf\n",
        "  all_subsets = []\n",
        "  all_models = []\n",
        "\n",
        "  # Iterate over all possible subsets of predictors\n",
        "  for subset_size in range(1, len(predictors) + 1):\n",
        "      for subset in itertools.combinations(predictors, subset_size):\n",
        "          X = df[list(subset)]\n",
        "          model = fit_model_and_calc_aic(y, X)\n",
        "          all_subsets.append(subset)\n",
        "          all_models.append(model)\n",
        "          current_metric = model[metric]\n",
        "\n",
        "          if (metric == \"r2\") and (current_metric > best_subset_metric):\n",
        "              best_subset = subset\n",
        "              best_subset_metric = current_metric\n",
        "          elif (metric != \"r2\") and (current_metric < best_subset_metric_aic):\n",
        "              best_subset = subset\n",
        "              best_subset_metric_aic = current_metric\n",
        "\n",
        "  print(\"Best subset:\", best_subset)\n",
        "  print(metric, \":\", best_subset_metric_aic)\n",
        "  bestsubreg = pd.DataFrame(all_subsets, all_models)\n",
        "  return(bestsubreg)\n"
      ]
    },
    {
      "cell_type": "markdown",
      "metadata": {
        "id": "BrYRkN3MU2Ya"
      },
      "source": [
        "With this function we can print an specific statistic that we want to evaluate, but all the results will be stored in the return of the function, so we can visualize every step of the algorithm."
      ]
    },
    {
      "cell_type": "code",
      "execution_count": 26,
      "metadata": {
        "colab": {
          "base_uri": "https://localhost:8080/"
        },
        "id": "TgfNfUgRAj0r",
        "outputId": "8a582031-7c04-48aa-9501-5e49909b0275"
      },
      "outputs": [
        {
          "name": "stdout",
          "output_type": "stream",
          "text": [
            "Best subset: ('Agriculture', 'Education', 'Catholic', 'Infant_Mortality')\n",
            "aic : 323.24084406398185\n"
          ]
        }
      ],
      "source": [
        "# Target variable\n",
        "y = swiss['Fertility']\n",
        "\n",
        "# Define the predictor variables\n",
        "predictors = ['Agriculture', 'Examination', 'Education', 'Catholic', 'Infant_Mortality']\n",
        "\n",
        "# Use the function\n",
        "allsub = best_subset_reg(df = swiss, y = y, predictors = predictors, metric = \"aic\")"
      ]
    },
    {
      "cell_type": "code",
      "execution_count": 11,
      "metadata": {
        "colab": {
          "base_uri": "https://localhost:8080/",
          "height": 1000
        },
        "id": "NjAk58y9BwZW",
        "outputId": "3f34d90f-d987-4862-ff09-cc93e9797040"
      },
      "outputs": [
        {
          "data": {
            "text/html": [
              "<div>\n",
              "<style scoped>\n",
              "    .dataframe tbody tr th:only-of-type {\n",
              "        vertical-align: middle;\n",
              "    }\n",
              "\n",
              "    .dataframe tbody tr th {\n",
              "        vertical-align: top;\n",
              "    }\n",
              "\n",
              "    .dataframe thead th {\n",
              "        text-align: right;\n",
              "    }\n",
              "</style>\n",
              "<table border=\"1\" class=\"dataframe\">\n",
              "  <thead>\n",
              "    <tr style=\"text-align: right;\">\n",
              "      <th></th>\n",
              "      <th>0</th>\n",
              "      <th>1</th>\n",
              "      <th>2</th>\n",
              "      <th>3</th>\n",
              "      <th>4</th>\n",
              "    </tr>\n",
              "  </thead>\n",
              "  <tbody>\n",
              "    <tr>\n",
              "      <th>{'aic': 367.4674850894165, 'bic': 371.16778029283665, 'r2': 0.10521301901476432}</th>\n",
              "      <td>Agriculture</td>\n",
              "      <td>None</td>\n",
              "      <td>None</td>\n",
              "      <td>None</td>\n",
              "      <td>None</td>\n",
              "    </tr>\n",
              "    <tr>\n",
              "      <th>{'aic': 348.35250343910434, 'bic': 352.05279864252446, 'r2': 0.40421256984504805}</th>\n",
              "      <td>Examination</td>\n",
              "      <td>None</td>\n",
              "      <td>None</td>\n",
              "      <td>None</td>\n",
              "      <td>None</td>\n",
              "    </tr>\n",
              "    <tr>\n",
              "      <th>{'aic': 346.4222968131403, 'bic': 350.1225920165604, 'r2': 0.42818488331778837}</th>\n",
              "      <td>Education</td>\n",
              "      <td>None</td>\n",
              "      <td>None</td>\n",
              "      <td>None</td>\n",
              "      <td>None</td>\n",
              "    </tr>\n",
              "    <tr>\n",
              "      <th>{'aic': 362.34789183539874, 'bic': 366.04818703881887, 'r2': 0.19755913498784483}</th>\n",
              "      <td>Catholic</td>\n",
              "      <td>None</td>\n",
              "      <td>None</td>\n",
              "      <td>None</td>\n",
              "      <td>None</td>\n",
              "    </tr>\n",
              "    <tr>\n",
              "      <th>{'aic': 364.76828652308234, 'bic': 368.46858172650246, 'r2': 0.15515268126541448}</th>\n",
              "      <td>Infant_Mortality</td>\n",
              "      <td>None</td>\n",
              "      <td>None</td>\n",
              "      <td>None</td>\n",
              "      <td>None</td>\n",
              "    </tr>\n",
              "    <tr>\n",
              "      <th>{'aic': 349.090630094017, 'bic': 354.64107289914716, 'r2': 0.4068137507049542}</th>\n",
              "      <td>Agriculture</td>\n",
              "      <td>Examination</td>\n",
              "      <td>None</td>\n",
              "      <td>None</td>\n",
              "      <td>None</td>\n",
              "    </tr>\n",
              "    <tr>\n",
              "      <th>{'aic': 347.69130774820235, 'bic': 353.2417505533325, 'r2': 0.42421425928351864}</th>\n",
              "      <td>Agriculture</td>\n",
              "      <td>Education</td>\n",
              "      <td>None</td>\n",
              "      <td>None</td>\n",
              "      <td>None</td>\n",
              "    </tr>\n",
              "    <tr>\n",
              "      <th>{'aic': 362.31218083638737, 'bic': 367.86262364151753, 'r2': 0.21410906779420746}</th>\n",
              "      <td>Agriculture</td>\n",
              "      <td>Catholic</td>\n",
              "      <td>None</td>\n",
              "      <td>None</td>\n",
              "      <td>None</td>\n",
              "    </tr>\n",
              "    <tr>\n",
              "      <th>{'aic': 357.7882796123653, 'bic': 363.33872241749543, 'r2': 0.28622713022628876}</th>\n",
              "      <td>Agriculture</td>\n",
              "      <td>Infant_Mortality</td>\n",
              "      <td>None</td>\n",
              "      <td>None</td>\n",
              "      <td>None</td>\n",
              "    </tr>\n",
              "    <tr>\n",
              "      <th>{'aic': 342.6291542619213, 'bic': 348.1795970670515, 'r2': 0.483006542211746}</th>\n",
              "      <td>Examination</td>\n",
              "      <td>Education</td>\n",
              "      <td>None</td>\n",
              "      <td>None</td>\n",
              "      <td>None</td>\n",
              "    </tr>\n",
              "    <tr>\n",
              "      <th>{'aic': 349.28549996673877, 'bic': 354.83594277186893, 'r2': 0.40434919545505466}</th>\n",
              "      <td>Examination</td>\n",
              "      <td>Catholic</td>\n",
              "      <td>None</td>\n",
              "      <td>None</td>\n",
              "      <td>None</td>\n",
              "    </tr>\n",
              "    <tr>\n",
              "      <th>{'aic': 339.604977827634, 'bic': 345.15542063276416, 'r2': 0.5152244303767104}</th>\n",
              "      <td>Examination</td>\n",
              "      <td>Infant_Mortality</td>\n",
              "      <td>None</td>\n",
              "      <td>None</td>\n",
              "      <td>None</td>\n",
              "    </tr>\n",
              "    <tr>\n",
              "      <th>{'aic': 335.5636325451936, 'bic': 341.1140753503238, 'r2': 0.5551665373186827}</th>\n",
              "      <td>Education</td>\n",
              "      <td>Catholic</td>\n",
              "      <td>None</td>\n",
              "      <td>None</td>\n",
              "      <td>None</td>\n",
              "    </tr>\n",
              "    <tr>\n",
              "      <th>{'aic': 336.6259934253488, 'bic': 342.17643623047894, 'r2': 0.5449972813732332}</th>\n",
              "      <td>Education</td>\n",
              "      <td>Infant_Mortality</td>\n",
              "      <td>None</td>\n",
              "      <td>None</td>\n",
              "      <td>None</td>\n",
              "    </tr>\n",
              "    <tr>\n",
              "      <th>{'aic': 356.83843235033964, 'bic': 362.3888751554698, 'r2': 0.30050735041053556}</th>\n",
              "      <td>Catholic</td>\n",
              "      <td>Infant_Mortality</td>\n",
              "      <td>None</td>\n",
              "      <td>None</td>\n",
              "      <td>None</td>\n",
              "    </tr>\n",
              "    <tr>\n",
              "      <th>{'aic': 339.4748668039759, 'bic': 346.87545721081614, 'r2': 0.5259304466871748}</th>\n",
              "      <td>Agriculture</td>\n",
              "      <td>Examination</td>\n",
              "      <td>Education</td>\n",
              "      <td>None</td>\n",
              "      <td>None</td>\n",
              "    </tr>\n",
              "    <tr>\n",
              "      <th>{'aic': 349.9619309561192, 'bic': 357.36252136295946, 'r2': 0.4074216666887359}</th>\n",
              "      <td>Agriculture</td>\n",
              "      <td>Examination</td>\n",
              "      <td>Catholic</td>\n",
              "      <td>None</td>\n",
              "      <td>None</td>\n",
              "    </tr>\n",
              "    <tr>\n",
              "      <th>{'aic': 341.2523232426338, 'bic': 348.65291364947404, 'r2': 0.5076586533284929}</th>\n",
              "      <td>Agriculture</td>\n",
              "      <td>Examination</td>\n",
              "      <td>Infant_Mortality</td>\n",
              "      <td>None</td>\n",
              "      <td>None</td>\n",
              "    </tr>\n",
              "    <tr>\n",
              "      <th>{'aic': 329.41264806307026, 'bic': 336.8132384699105, 'r2': 0.6172950650514162}</th>\n",
              "      <td>Agriculture</td>\n",
              "      <td>Education</td>\n",
              "      <td>Catholic</td>\n",
              "      <td>None</td>\n",
              "      <td>None</td>\n",
              "    </tr>\n",
              "    <tr>\n",
              "      <th>{'aic': 338.4850383868686, 'bic': 345.88562879370886, 'r2': 0.5358100382399367}</th>\n",
              "      <td>Agriculture</td>\n",
              "      <td>Education</td>\n",
              "      <td>Infant_Mortality</td>\n",
              "      <td>None</td>\n",
              "      <td>None</td>\n",
              "    </tr>\n",
              "    <tr>\n",
              "      <th>{'aic': 354.8090028180702, 'bic': 362.20959322491046, 'r2': 0.3430471430133917}</th>\n",
              "      <td>Agriculture</td>\n",
              "      <td>Catholic</td>\n",
              "      <td>Infant_Mortality</td>\n",
              "      <td>None</td>\n",
              "      <td>None</td>\n",
              "    </tr>\n",
              "    <tr>\n",
              "      <th>{'aic': 337.52575970128095, 'bic': 344.9263501081212, 'r2': 0.54518821046991}</th>\n",
              "      <td>Examination</td>\n",
              "      <td>Education</td>\n",
              "      <td>Catholic</td>\n",
              "      <td>None</td>\n",
              "      <td>None</td>\n",
              "    </tr>\n",
              "    <tr>\n",
              "      <th>{'aic': 332.3606952035453, 'bic': 339.7612856103855, 'r2': 0.5925212864308145}</th>\n",
              "      <td>Examination</td>\n",
              "      <td>Education</td>\n",
              "      <td>Infant_Mortality</td>\n",
              "      <td>None</td>\n",
              "      <td>None</td>\n",
              "    </tr>\n",
              "    <tr>\n",
              "      <th>{'aic': 341.1296839813227, 'bic': 348.530274388163, 'r2': 0.508941667602805}</th>\n",
              "      <td>Examination</td>\n",
              "      <td>Catholic</td>\n",
              "      <td>Infant_Mortality</td>\n",
              "      <td>None</td>\n",
              "      <td>None</td>\n",
              "    </tr>\n",
              "    <tr>\n",
              "      <th>{'aic': 326.66844335570636, 'bic': 334.0690337625466, 'r2': 0.639000362840831}</th>\n",
              "      <td>Education</td>\n",
              "      <td>Catholic</td>\n",
              "      <td>Infant_Mortality</td>\n",
              "      <td>None</td>\n",
              "      <td>None</td>\n",
              "    </tr>\n",
              "    <tr>\n",
              "      <th>{'aic': 330.4120510647243, 'bic': 339.6627890732746, 'r2': 0.616436385037393}</th>\n",
              "      <td>Agriculture</td>\n",
              "      <td>Examination</td>\n",
              "      <td>Education</td>\n",
              "      <td>Catholic</td>\n",
              "      <td>None</td>\n",
              "    </tr>\n",
              "    <tr>\n",
              "      <th>{'aic': 331.1348449910716, 'bic': 340.3855829996219, 'r2': 0.6104921258381877}</th>\n",
              "      <td>Agriculture</td>\n",
              "      <td>Examination</td>\n",
              "      <td>Education</td>\n",
              "      <td>Infant_Mortality</td>\n",
              "      <td>None</td>\n",
              "    </tr>\n",
              "    <tr>\n",
              "      <th>{'aic': 342.73845933863186, 'bic': 351.98919734718214, 'r2': 0.5014172902787599}</th>\n",
              "      <td>Agriculture</td>\n",
              "      <td>Examination</td>\n",
              "      <td>Catholic</td>\n",
              "      <td>Infant_Mortality</td>\n",
              "      <td>None</td>\n",
              "    </tr>\n",
              "    <tr>\n",
              "      <th>{'aic': 323.24084406398185, 'bic': 332.49158207253214, 'r2': 0.6707140195611822}</th>\n",
              "      <td>Agriculture</td>\n",
              "      <td>Education</td>\n",
              "      <td>Catholic</td>\n",
              "      <td>Infant_Mortality</td>\n",
              "      <td>None</td>\n",
              "    </tr>\n",
              "    <tr>\n",
              "      <th>{'aic': 328.48401624902783, 'bic': 337.7347542575781, 'r2': 0.631852574892682}</th>\n",
              "      <td>Examination</td>\n",
              "      <td>Education</td>\n",
              "      <td>Catholic</td>\n",
              "      <td>Infant_Mortality</td>\n",
              "      <td>None</td>\n",
              "    </tr>\n",
              "    <tr>\n",
              "      <th>{'aic': 324.07156844054873, 'bic': 335.17245405080905, 'r2': 0.6709709773967163}</th>\n",
              "      <td>Agriculture</td>\n",
              "      <td>Examination</td>\n",
              "      <td>Education</td>\n",
              "      <td>Catholic</td>\n",
              "      <td>Infant_Mortality</td>\n",
              "    </tr>\n",
              "  </tbody>\n",
              "</table>\n",
              "</div>"
            ],
            "text/plain": [
              "                                                                   0  \\\n",
              "{'aic': 367.4674850894165, 'bic': 371.167780292...       Agriculture   \n",
              "{'aic': 348.35250343910434, 'bic': 352.05279864...       Examination   \n",
              "{'aic': 346.4222968131403, 'bic': 350.122592016...         Education   \n",
              "{'aic': 362.34789183539874, 'bic': 366.04818703...          Catholic   \n",
              "{'aic': 364.76828652308234, 'bic': 368.46858172...  Infant_Mortality   \n",
              "{'aic': 349.090630094017, 'bic': 354.6410728991...       Agriculture   \n",
              "{'aic': 347.69130774820235, 'bic': 353.24175055...       Agriculture   \n",
              "{'aic': 362.31218083638737, 'bic': 367.86262364...       Agriculture   \n",
              "{'aic': 357.7882796123653, 'bic': 363.338722417...       Agriculture   \n",
              "{'aic': 342.6291542619213, 'bic': 348.179597067...       Examination   \n",
              "{'aic': 349.28549996673877, 'bic': 354.83594277...       Examination   \n",
              "{'aic': 339.604977827634, 'bic': 345.1554206327...       Examination   \n",
              "{'aic': 335.5636325451936, 'bic': 341.114075350...         Education   \n",
              "{'aic': 336.6259934253488, 'bic': 342.176436230...         Education   \n",
              "{'aic': 356.83843235033964, 'bic': 362.38887515...          Catholic   \n",
              "{'aic': 339.4748668039759, 'bic': 346.875457210...       Agriculture   \n",
              "{'aic': 349.9619309561192, 'bic': 357.362521362...       Agriculture   \n",
              "{'aic': 341.2523232426338, 'bic': 348.652913649...       Agriculture   \n",
              "{'aic': 329.41264806307026, 'bic': 336.81323846...       Agriculture   \n",
              "{'aic': 338.4850383868686, 'bic': 345.885628793...       Agriculture   \n",
              "{'aic': 354.8090028180702, 'bic': 362.209593224...       Agriculture   \n",
              "{'aic': 337.52575970128095, 'bic': 344.92635010...       Examination   \n",
              "{'aic': 332.3606952035453, 'bic': 339.761285610...       Examination   \n",
              "{'aic': 341.1296839813227, 'bic': 348.530274388...       Examination   \n",
              "{'aic': 326.66844335570636, 'bic': 334.06903376...         Education   \n",
              "{'aic': 330.4120510647243, 'bic': 339.662789073...       Agriculture   \n",
              "{'aic': 331.1348449910716, 'bic': 340.385582999...       Agriculture   \n",
              "{'aic': 342.73845933863186, 'bic': 351.98919734...       Agriculture   \n",
              "{'aic': 323.24084406398185, 'bic': 332.49158207...       Agriculture   \n",
              "{'aic': 328.48401624902783, 'bic': 337.73475425...       Examination   \n",
              "{'aic': 324.07156844054873, 'bic': 335.17245405...       Agriculture   \n",
              "\n",
              "                                                                   1  \\\n",
              "{'aic': 367.4674850894165, 'bic': 371.167780292...              None   \n",
              "{'aic': 348.35250343910434, 'bic': 352.05279864...              None   \n",
              "{'aic': 346.4222968131403, 'bic': 350.122592016...              None   \n",
              "{'aic': 362.34789183539874, 'bic': 366.04818703...              None   \n",
              "{'aic': 364.76828652308234, 'bic': 368.46858172...              None   \n",
              "{'aic': 349.090630094017, 'bic': 354.6410728991...       Examination   \n",
              "{'aic': 347.69130774820235, 'bic': 353.24175055...         Education   \n",
              "{'aic': 362.31218083638737, 'bic': 367.86262364...          Catholic   \n",
              "{'aic': 357.7882796123653, 'bic': 363.338722417...  Infant_Mortality   \n",
              "{'aic': 342.6291542619213, 'bic': 348.179597067...         Education   \n",
              "{'aic': 349.28549996673877, 'bic': 354.83594277...          Catholic   \n",
              "{'aic': 339.604977827634, 'bic': 345.1554206327...  Infant_Mortality   \n",
              "{'aic': 335.5636325451936, 'bic': 341.114075350...          Catholic   \n",
              "{'aic': 336.6259934253488, 'bic': 342.176436230...  Infant_Mortality   \n",
              "{'aic': 356.83843235033964, 'bic': 362.38887515...  Infant_Mortality   \n",
              "{'aic': 339.4748668039759, 'bic': 346.875457210...       Examination   \n",
              "{'aic': 349.9619309561192, 'bic': 357.362521362...       Examination   \n",
              "{'aic': 341.2523232426338, 'bic': 348.652913649...       Examination   \n",
              "{'aic': 329.41264806307026, 'bic': 336.81323846...         Education   \n",
              "{'aic': 338.4850383868686, 'bic': 345.885628793...         Education   \n",
              "{'aic': 354.8090028180702, 'bic': 362.209593224...          Catholic   \n",
              "{'aic': 337.52575970128095, 'bic': 344.92635010...         Education   \n",
              "{'aic': 332.3606952035453, 'bic': 339.761285610...         Education   \n",
              "{'aic': 341.1296839813227, 'bic': 348.530274388...          Catholic   \n",
              "{'aic': 326.66844335570636, 'bic': 334.06903376...          Catholic   \n",
              "{'aic': 330.4120510647243, 'bic': 339.662789073...       Examination   \n",
              "{'aic': 331.1348449910716, 'bic': 340.385582999...       Examination   \n",
              "{'aic': 342.73845933863186, 'bic': 351.98919734...       Examination   \n",
              "{'aic': 323.24084406398185, 'bic': 332.49158207...         Education   \n",
              "{'aic': 328.48401624902783, 'bic': 337.73475425...         Education   \n",
              "{'aic': 324.07156844054873, 'bic': 335.17245405...       Examination   \n",
              "\n",
              "                                                                   2  \\\n",
              "{'aic': 367.4674850894165, 'bic': 371.167780292...              None   \n",
              "{'aic': 348.35250343910434, 'bic': 352.05279864...              None   \n",
              "{'aic': 346.4222968131403, 'bic': 350.122592016...              None   \n",
              "{'aic': 362.34789183539874, 'bic': 366.04818703...              None   \n",
              "{'aic': 364.76828652308234, 'bic': 368.46858172...              None   \n",
              "{'aic': 349.090630094017, 'bic': 354.6410728991...              None   \n",
              "{'aic': 347.69130774820235, 'bic': 353.24175055...              None   \n",
              "{'aic': 362.31218083638737, 'bic': 367.86262364...              None   \n",
              "{'aic': 357.7882796123653, 'bic': 363.338722417...              None   \n",
              "{'aic': 342.6291542619213, 'bic': 348.179597067...              None   \n",
              "{'aic': 349.28549996673877, 'bic': 354.83594277...              None   \n",
              "{'aic': 339.604977827634, 'bic': 345.1554206327...              None   \n",
              "{'aic': 335.5636325451936, 'bic': 341.114075350...              None   \n",
              "{'aic': 336.6259934253488, 'bic': 342.176436230...              None   \n",
              "{'aic': 356.83843235033964, 'bic': 362.38887515...              None   \n",
              "{'aic': 339.4748668039759, 'bic': 346.875457210...         Education   \n",
              "{'aic': 349.9619309561192, 'bic': 357.362521362...          Catholic   \n",
              "{'aic': 341.2523232426338, 'bic': 348.652913649...  Infant_Mortality   \n",
              "{'aic': 329.41264806307026, 'bic': 336.81323846...          Catholic   \n",
              "{'aic': 338.4850383868686, 'bic': 345.885628793...  Infant_Mortality   \n",
              "{'aic': 354.8090028180702, 'bic': 362.209593224...  Infant_Mortality   \n",
              "{'aic': 337.52575970128095, 'bic': 344.92635010...          Catholic   \n",
              "{'aic': 332.3606952035453, 'bic': 339.761285610...  Infant_Mortality   \n",
              "{'aic': 341.1296839813227, 'bic': 348.530274388...  Infant_Mortality   \n",
              "{'aic': 326.66844335570636, 'bic': 334.06903376...  Infant_Mortality   \n",
              "{'aic': 330.4120510647243, 'bic': 339.662789073...         Education   \n",
              "{'aic': 331.1348449910716, 'bic': 340.385582999...         Education   \n",
              "{'aic': 342.73845933863186, 'bic': 351.98919734...          Catholic   \n",
              "{'aic': 323.24084406398185, 'bic': 332.49158207...          Catholic   \n",
              "{'aic': 328.48401624902783, 'bic': 337.73475425...          Catholic   \n",
              "{'aic': 324.07156844054873, 'bic': 335.17245405...         Education   \n",
              "\n",
              "                                                                   3  \\\n",
              "{'aic': 367.4674850894165, 'bic': 371.167780292...              None   \n",
              "{'aic': 348.35250343910434, 'bic': 352.05279864...              None   \n",
              "{'aic': 346.4222968131403, 'bic': 350.122592016...              None   \n",
              "{'aic': 362.34789183539874, 'bic': 366.04818703...              None   \n",
              "{'aic': 364.76828652308234, 'bic': 368.46858172...              None   \n",
              "{'aic': 349.090630094017, 'bic': 354.6410728991...              None   \n",
              "{'aic': 347.69130774820235, 'bic': 353.24175055...              None   \n",
              "{'aic': 362.31218083638737, 'bic': 367.86262364...              None   \n",
              "{'aic': 357.7882796123653, 'bic': 363.338722417...              None   \n",
              "{'aic': 342.6291542619213, 'bic': 348.179597067...              None   \n",
              "{'aic': 349.28549996673877, 'bic': 354.83594277...              None   \n",
              "{'aic': 339.604977827634, 'bic': 345.1554206327...              None   \n",
              "{'aic': 335.5636325451936, 'bic': 341.114075350...              None   \n",
              "{'aic': 336.6259934253488, 'bic': 342.176436230...              None   \n",
              "{'aic': 356.83843235033964, 'bic': 362.38887515...              None   \n",
              "{'aic': 339.4748668039759, 'bic': 346.875457210...              None   \n",
              "{'aic': 349.9619309561192, 'bic': 357.362521362...              None   \n",
              "{'aic': 341.2523232426338, 'bic': 348.652913649...              None   \n",
              "{'aic': 329.41264806307026, 'bic': 336.81323846...              None   \n",
              "{'aic': 338.4850383868686, 'bic': 345.885628793...              None   \n",
              "{'aic': 354.8090028180702, 'bic': 362.209593224...              None   \n",
              "{'aic': 337.52575970128095, 'bic': 344.92635010...              None   \n",
              "{'aic': 332.3606952035453, 'bic': 339.761285610...              None   \n",
              "{'aic': 341.1296839813227, 'bic': 348.530274388...              None   \n",
              "{'aic': 326.66844335570636, 'bic': 334.06903376...              None   \n",
              "{'aic': 330.4120510647243, 'bic': 339.662789073...          Catholic   \n",
              "{'aic': 331.1348449910716, 'bic': 340.385582999...  Infant_Mortality   \n",
              "{'aic': 342.73845933863186, 'bic': 351.98919734...  Infant_Mortality   \n",
              "{'aic': 323.24084406398185, 'bic': 332.49158207...  Infant_Mortality   \n",
              "{'aic': 328.48401624902783, 'bic': 337.73475425...  Infant_Mortality   \n",
              "{'aic': 324.07156844054873, 'bic': 335.17245405...          Catholic   \n",
              "\n",
              "                                                                   4  \n",
              "{'aic': 367.4674850894165, 'bic': 371.167780292...              None  \n",
              "{'aic': 348.35250343910434, 'bic': 352.05279864...              None  \n",
              "{'aic': 346.4222968131403, 'bic': 350.122592016...              None  \n",
              "{'aic': 362.34789183539874, 'bic': 366.04818703...              None  \n",
              "{'aic': 364.76828652308234, 'bic': 368.46858172...              None  \n",
              "{'aic': 349.090630094017, 'bic': 354.6410728991...              None  \n",
              "{'aic': 347.69130774820235, 'bic': 353.24175055...              None  \n",
              "{'aic': 362.31218083638737, 'bic': 367.86262364...              None  \n",
              "{'aic': 357.7882796123653, 'bic': 363.338722417...              None  \n",
              "{'aic': 342.6291542619213, 'bic': 348.179597067...              None  \n",
              "{'aic': 349.28549996673877, 'bic': 354.83594277...              None  \n",
              "{'aic': 339.604977827634, 'bic': 345.1554206327...              None  \n",
              "{'aic': 335.5636325451936, 'bic': 341.114075350...              None  \n",
              "{'aic': 336.6259934253488, 'bic': 342.176436230...              None  \n",
              "{'aic': 356.83843235033964, 'bic': 362.38887515...              None  \n",
              "{'aic': 339.4748668039759, 'bic': 346.875457210...              None  \n",
              "{'aic': 349.9619309561192, 'bic': 357.362521362...              None  \n",
              "{'aic': 341.2523232426338, 'bic': 348.652913649...              None  \n",
              "{'aic': 329.41264806307026, 'bic': 336.81323846...              None  \n",
              "{'aic': 338.4850383868686, 'bic': 345.885628793...              None  \n",
              "{'aic': 354.8090028180702, 'bic': 362.209593224...              None  \n",
              "{'aic': 337.52575970128095, 'bic': 344.92635010...              None  \n",
              "{'aic': 332.3606952035453, 'bic': 339.761285610...              None  \n",
              "{'aic': 341.1296839813227, 'bic': 348.530274388...              None  \n",
              "{'aic': 326.66844335570636, 'bic': 334.06903376...              None  \n",
              "{'aic': 330.4120510647243, 'bic': 339.662789073...              None  \n",
              "{'aic': 331.1348449910716, 'bic': 340.385582999...              None  \n",
              "{'aic': 342.73845933863186, 'bic': 351.98919734...              None  \n",
              "{'aic': 323.24084406398185, 'bic': 332.49158207...              None  \n",
              "{'aic': 328.48401624902783, 'bic': 337.73475425...              None  \n",
              "{'aic': 324.07156844054873, 'bic': 335.17245405...  Infant_Mortality  "
            ]
          },
          "execution_count": 11,
          "metadata": {},
          "output_type": "execute_result"
        }
      ],
      "source": [
        "allsub"
      ]
    },
    {
      "cell_type": "markdown",
      "metadata": {
        "id": "7bC7V1yfVDDA"
      },
      "source": [
        "## Stepwise method\n",
        "\n",
        "Again, there is not an algorithm in statsmodels that allow us to perform the stepwise selection. We have two options, we can do it by hand or using a different library named “mlxtend”. Both options are used in the notebook."
      ]
    },
    {
      "cell_type": "code",
      "execution_count": 12,
      "metadata": {
        "id": "0TEQv7mjFr8w"
      },
      "outputs": [],
      "source": [
        "def forward_selection(data, target, significance_level=0.05):\n",
        "    initial_features = data.columns.tolist()\n",
        "    best_features = []\n",
        "    while len(initial_features) > 0:\n",
        "        remaining_features = list(set(initial_features) - set(best_features))\n",
        "        new_pval = pd.Series(index=remaining_features, dtype='float64')\n",
        "        for new_column in remaining_features:\n",
        "            model = sm.OLS(target, sm.add_constant(data[best_features + [new_column]])).fit()\n",
        "            new_pval[new_column] = model.pvalues[new_column]\n",
        "        min_p_value = new_pval.min()\n",
        "        if min_p_value < significance_level:\n",
        "            best_features.append(new_pval.idxmin())\n",
        "        else:\n",
        "            break\n",
        "    return best_features\n",
        "\n",
        "def backward_elimination(data, target, significance_level=0.05):\n",
        "    features = data.columns.tolist()\n",
        "    while len(features) > 0:\n",
        "        features_with_constant = sm.add_constant(data[features])\n",
        "        p_values = sm.OLS(target, features_with_constant).fit().pvalues[1:]\n",
        "        max_p_value = p_values.max()\n",
        "        if max_p_value >= significance_level:\n",
        "            excluded_feature = p_values.idxmax()\n",
        "            features.remove(excluded_feature)\n",
        "        else:\n",
        "            break\n",
        "    return features\n",
        "\n",
        "def bidirectional_stepwise(data, target, significance_level=0.05):\n",
        "    forward_features = forward_selection(data, target, significance_level)\n",
        "    return backward_elimination(data[forward_features], target, significance_level)\n"
      ]
    },
    {
      "cell_type": "code",
      "execution_count": 13,
      "metadata": {
        "colab": {
          "base_uri": "https://localhost:8080/"
        },
        "id": "nbaNu3Y0FuK3",
        "outputId": "772b42c8-8366-44e4-dc96-b11fa0a8f2f1"
      },
      "outputs": [
        {
          "name": "stdout",
          "output_type": "stream",
          "text": [
            "Forward Selection:  ['Education', 'Catholic', 'Infant_Mortality', 'Infant.Mortality', 'Agriculture']\n",
            "Backward Elimination:  ['Agriculture', 'Education', 'Catholic', 'Infant.Mortality', 'Infant_Mortality']\n",
            "Bidirectional Stepwise:  ['Education', 'Catholic', 'Infant_Mortality', 'Infant.Mortality', 'Agriculture']\n"
          ]
        }
      ],
      "source": [
        "# Define the target variable and predictors\n",
        "target = swiss['Fertility']\n",
        "predictors = swiss.drop(columns='Fertility')\n",
        "\n",
        "# Perform forward selection\n",
        "forward_selected_features = forward_selection(predictors, target)\n",
        "print(\"Forward Selection: \", forward_selected_features)\n",
        "\n",
        "# Perform backward elimination\n",
        "backward_eliminated_features = backward_elimination(predictors, target)\n",
        "print(\"Backward Elimination: \", backward_eliminated_features)\n",
        "\n",
        "# Perform bidirectional stepwise regression\n",
        "bidirectional_features = bidirectional_stepwise(predictors, target)\n",
        "print(\"Bidirectional Stepwise: \", bidirectional_features)\n"
      ]
    },
    {
      "cell_type": "code",
      "execution_count": 14,
      "metadata": {
        "id": "RvdIWiKBHkj0"
      },
      "outputs": [],
      "source": [
        "swiss[\"Infant_Mortality\"] = swiss[\"Infant.Mortality\"]"
      ]
    },
    {
      "cell_type": "code",
      "execution_count": 15,
      "metadata": {
        "id": "64EBoWJPFIPG"
      },
      "outputs": [],
      "source": [
        "#!pip install --upgrade mlxtend\n",
        "import joblib\n",
        "import sys\n",
        "sys.modules['sklearn.externals.joblib'] = joblib\n",
        "from mlxtend.feature_selection import SequentialFeatureSelector as SFS"
      ]
    },
    {
      "cell_type": "code",
      "execution_count": 16,
      "metadata": {
        "colab": {
          "base_uri": "https://localhost:8080/"
        },
        "id": "op1UAsr7IttB",
        "outputId": "b5218087-3369-47dd-e104-857e9155fc34"
      },
      "outputs": [
        {
          "name": "stdout",
          "output_type": "stream",
          "text": [
            "Forward Selection:  ['Agriculture', 'Examination', 'Education', 'Catholic', 'Infant.Mortality']\n",
            "Backward Elimination:  ['Agriculture', 'Examination', 'Education', 'Catholic', 'Infant.Mortality', 'Infant_Mortality']\n"
          ]
        }
      ],
      "source": [
        "from sklearn.linear_model import LinearRegression\n",
        "#from mlxtend.feature_selection import SequentialFeatureSelector as SFS\n",
        "\n",
        "target = swiss['Fertility']\n",
        "predictors = swiss.drop(columns='Fertility')\n",
        "\n",
        "linear_regression = LinearRegression()\n",
        "\n",
        "# Forward Selection\n",
        "forward_selector = SFS(linear_regression,\n",
        "                       k_features=\"best\",\n",
        "                       forward=True,\n",
        "                       floating=False,\n",
        "                       scoring='r2',\n",
        "                       cv=0)\n",
        "forward_selector.fit(predictors, target)\n",
        "forward_selected_features = list(predictors.columns[list(forward_selector.k_feature_idx_)])\n",
        "print(\"Forward Selection: \", forward_selected_features)\n",
        "\n",
        "# Backward Elimination\n",
        "backward_selector = SFS(linear_regression,\n",
        "                        k_features=\"best\",\n",
        "                        forward=False,\n",
        "                        floating=False,\n",
        "                        scoring='r2',\n",
        "                        cv=0)\n",
        "backward_selector.fit(predictors, target)\n",
        "backward_eliminated_features = list(predictors.columns[list(backward_selector.k_feature_idx_)])\n",
        "print(\"Backward Elimination: \", backward_eliminated_features)\n"
      ]
    },
    {
      "cell_type": "code",
      "execution_count": 17,
      "metadata": {
        "colab": {
          "base_uri": "https://localhost:8080/"
        },
        "id": "MhJzIlplKLmq",
        "outputId": "d49c1c28-f544-46a3-cb21-d2ac68ec8393"
      },
      "outputs": [
        {
          "name": "stdout",
          "output_type": "stream",
          "text": [
            "Forward Selection Results:\n",
            "Selected features: ['Agriculture', 'Examination', 'Education', 'Catholic', 'Infant.Mortality']\n",
            "Number of features: ('Agriculture', 'Examination', 'Education', 'Catholic', 'Infant.Mortality')\n",
            "R-squared: 0.7067350015927254\n",
            "\n",
            "Feature Selection History:\n",
            "Step 1 : Features ['Education'] - R-squared: 0.4406156467239234\n",
            "Step 2 : Features ['Education', 'Catholic'] - R-squared: 0.574507122652653\n",
            "Step 3 : Features ['Education', 'Catholic', 'Infant.Mortality'] - R-squared: 0.662543817438168\n",
            "Step 4 : Features ['Agriculture', 'Education', 'Catholic', 'Infant.Mortality'] - R-squared: 0.699347583077601\n",
            "Step 5 : Features ['Agriculture', 'Examination', 'Education', 'Catholic', 'Infant.Mortality'] - R-squared: 0.7067350015927254\n",
            "Step 6 : Features ['Agriculture', 'Examination', 'Education', 'Catholic', 'Infant.Mortality', 'Infant_Mortality'] - R-squared: 0.7067350015927254\n",
            "\n",
            "\n",
            "Backward Elimination Results:\n",
            "Selected features: ['Agriculture', 'Examination', 'Education', 'Catholic', 'Infant.Mortality', 'Infant_Mortality']\n",
            "Number of features: ('Agriculture', 'Examination', 'Education', 'Catholic', 'Infant.Mortality', 'Infant_Mortality')\n",
            "R-squared: 0.7067350015927254\n",
            "\n",
            "Feature Selection History:\n",
            "Step 6 : Features ['Agriculture', 'Examination', 'Education', 'Catholic', 'Infant.Mortality', 'Infant_Mortality'] - R-squared: 0.7067350015927254\n",
            "Step 5 : Features ['Agriculture', 'Examination', 'Education', 'Catholic', 'Infant.Mortality'] - R-squared: 0.7067350015927254\n",
            "Step 4 : Features ['Agriculture', 'Education', 'Catholic', 'Infant.Mortality'] - R-squared: 0.699347583077601\n",
            "Step 3 : Features ['Education', 'Catholic', 'Infant.Mortality'] - R-squared: 0.662543817438168\n",
            "Step 2 : Features ['Education', 'Catholic'] - R-squared: 0.574507122652653\n",
            "Step 1 : Features ['Education'] - R-squared: 0.4406156467239234\n"
          ]
        }
      ],
      "source": [
        "def summarize_results(selector, method, predictors):\n",
        "    selected_features = list(predictors.columns[list(selector.k_feature_idx_)])\n",
        "    print(f\"{method} Results:\")\n",
        "    print(\"Selected features:\", selected_features)\n",
        "    print(\"Number of features:\", selector.k_feature_names_)\n",
        "    print(\"R-squared:\", selector.k_score_)\n",
        "    print(\"\\nFeature Selection History:\")\n",
        "    for idx, values in selector.subsets_.items():\n",
        "        print(\"Step\", idx, \": Features\", list(predictors.columns[list(values[\"feature_idx\"])]), \"- R-squared:\" ,values[\"avg_score\"])\n",
        "\n",
        "# Summarize Forward Selection results\n",
        "summarize_results(forward_selector, \"Forward Selection\", predictors)\n",
        "print(\"\\n\")\n",
        "# Summarize Backward Elimination results\n",
        "summarize_results(backward_selector, \"Backward Elimination\", predictors)\n"
      ]
    },
    {
      "cell_type": "markdown",
      "metadata": {
        "id": "2GZ5yoyXW3w4"
      },
      "source": [
        "# Model Validation\n",
        "\n",
        "Using the best model, now we can obtain the validated scores using the methods we have learned at the beginnig of this module: Holdout (train-test), LOOCV and K-Fold."
      ]
    },
    {
      "cell_type": "code",
      "execution_count": 18,
      "metadata": {
        "id": "8EM8Rd3cXMWW"
      },
      "outputs": [],
      "source": [
        "from sklearn.model_selection import train_test_split, LeaveOneOut, KFold, cross_val_score\n",
        "from sklearn.linear_model import LinearRegression\n",
        "\n",
        "target = swiss['Fertility']\n",
        "predictors = swiss.drop(columns=['Fertility', 'Examination']) # we eliminate in this case Examination"
      ]
    },
    {
      "cell_type": "markdown",
      "metadata": {
        "id": "7lrMW3vXXibg"
      },
      "source": [
        "## Holdout"
      ]
    },
    {
      "cell_type": "code",
      "execution_count": 19,
      "metadata": {
        "colab": {
          "base_uri": "https://localhost:8080/"
        },
        "id": "P4dPQvV8XeVA",
        "outputId": "399f0c27-33e1-491c-809b-fdd59bb10ac9"
      },
      "outputs": [
        {
          "name": "stdout",
          "output_type": "stream",
          "text": [
            "Holdout R-squared: 0.7049044833601623\n"
          ]
        }
      ],
      "source": [
        "# Split the data into training and testing sets (70% train, 30% test)\n",
        "X_train, X_test, y_train, y_test = train_test_split(predictors, target, test_size=0.3, random_state=2023)\n",
        "\n",
        "# Create a linear regression model and fit it on the training data\n",
        "lr_model = LinearRegression().fit(X_train, y_train)\n",
        "\n",
        "# Calculate the R-squared score on the test data\n",
        "holdout_score = lr_model.score(X_test, y_test)\n",
        "print(f\"Holdout R-squared: {holdout_score}\")"
      ]
    },
    {
      "cell_type": "markdown",
      "metadata": {
        "id": "NBeapmeeX3AH"
      },
      "source": [
        "## LOOCV\n",
        "\n",
        "the R-squared score is not well-defined when there is only one sample in the test set, which is the case with Leave-One-Out Cross-Validation (LOOCV). In this situation, it's better to use a different scoring metric, such as the mean squared error (MSE) or mean absolute error (MAE).\n",
        "\n",
        "But in order to compare it, I have developed a program that manually calculates the R-squared for each iteration of the LOOCV method, giving the final average R-squared."
      ]
    },
    {
      "cell_type": "code",
      "execution_count": 20,
      "metadata": {
        "colab": {
          "base_uri": "https://localhost:8080/"
        },
        "id": "e22y5QEWX4YZ",
        "outputId": "c926be17-60e0-4db8-9c34-ff6950f1df34"
      },
      "outputs": [
        {
          "name": "stdout",
          "output_type": "stream",
          "text": [
            "LOOCV R-squared: 0.6203098431383138\n"
          ]
        }
      ],
      "source": [
        "# Create a LeaveOneOut object\n",
        "loo = LeaveOneOut()\n",
        "\n",
        "# Create a linear regression model\n",
        "lr_model = LinearRegression()\n",
        "\n",
        "# Keep track of true and predicted values\n",
        "y_true = []\n",
        "y_pred = []\n",
        "\n",
        "# Iterate through each split in the LOOCV\n",
        "for train_index, test_index in loo.split(predictors):\n",
        "    X_train, X_test = predictors.iloc[train_index], predictors.iloc[test_index]\n",
        "    y_train, y_test = target.iloc[train_index], target.iloc[test_index]\n",
        "\n",
        "    # Fit the model on the training data\n",
        "    lr_model.fit(X_train, y_train)\n",
        "\n",
        "    # Make predictions on the test data\n",
        "    predictions = lr_model.predict(X_test)\n",
        "\n",
        "    # Append the true and predicted values\n",
        "    y_true.extend(y_test)\n",
        "    y_pred.extend(predictions)\n",
        "\n",
        "# Convert the true and predicted values to numpy arrays\n",
        "y_true = np.array(y_true)\n",
        "y_pred = np.array(y_pred)\n",
        "\n",
        "# Compute the R-squared manually\n",
        "loocv_r2 = 1 - ((y_true - y_pred) ** 2).sum() / ((y_true - y_true.mean()) ** 2).sum()\n",
        "print(f\"LOOCV R-squared: {loocv_r2}\")\n"
      ]
    },
    {
      "cell_type": "markdown",
      "metadata": {
        "id": "EqBrsbXVZMNB"
      },
      "source": [
        "## K-Fold"
      ]
    },
    {
      "cell_type": "code",
      "execution_count": 21,
      "metadata": {
        "colab": {
          "base_uri": "https://localhost:8080/"
        },
        "id": "hlxx0qMZZQs2",
        "outputId": "bba8478a-7284-4cd9-916f-057f4884d076"
      },
      "outputs": [
        {
          "name": "stdout",
          "output_type": "stream",
          "text": [
            "k-Fold Average R-squared: 0.5538814911931456\n"
          ]
        }
      ],
      "source": [
        "# Create a KFold object with 5 folds\n",
        "kf = KFold(n_splits=5, shuffle=True, random_state=2023)\n",
        "\n",
        "# Create a linear regression model\n",
        "lr_model = LinearRegression()\n",
        "\n",
        "# Perform k-Fold Cross-Validation and calculate the R-squared score for each fold\n",
        "kfold_scores = cross_val_score(lr_model, predictors, target, cv=kf, scoring='r2')\n",
        "\n",
        "# Calculate the average R-squared score across all k-Fold Cross-Validation iterations\n",
        "kfold_avg_score = kfold_scores.mean()\n",
        "print(f\"k-Fold Average R-squared: {kfold_avg_score}\")"
      ]
    }
  ],
  "metadata": {
    "colab": {
      "provenance": []
    },
    "kernelspec": {
      "display_name": "Python 3",
      "name": "python3"
    },
    "language_info": {
      "codemirror_mode": {
        "name": "ipython",
        "version": 3
      },
      "file_extension": ".py",
      "mimetype": "text/x-python",
      "name": "python",
      "nbconvert_exporter": "python",
      "pygments_lexer": "ipython3",
      "version": "3.11.5"
    }
  },
  "nbformat": 4,
  "nbformat_minor": 0
}
